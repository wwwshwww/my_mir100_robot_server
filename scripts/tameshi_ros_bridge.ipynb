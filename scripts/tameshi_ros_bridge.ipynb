{
 "cells": [
  {
   "cell_type": "code",
   "execution_count": 8,
   "metadata": {},
   "outputs": [],
   "source": [
    "import rospy\n",
    "import actionlib\n",
    "import PyKDL\n",
    "import tf2_ros\n",
    "\n",
    "from move_base_msgs.msg import MoveBaseAction, MoveBaseGoal\n",
    "from geometry_msgs.msg import Twist, Pose, Pose2D, PoseStamped\n",
    "from nav_msgs.msg import Odometry, Path\n",
    "from gazebo_msgs.msg import ModelState, ContactsState\n",
    "\n",
    "from threading import Event"
   ]
  },
  {
   "cell_type": "code",
   "execution_count": null,
   "metadata": {},
   "outputs": [],
   "source": [
    "class RosBridge:\n",
    "    \n",
    "    def __init__(self, real_robot=False):\n",
    "        \n",
    "        # Event is clear while initialization or set_state is going on\n",
    "        self.reset = Event()\n",
    "        self.reset.clear()\n",
    "        self.get_state_event()\n",
    "        self.get_state_event.set()\n",
    "        \n",
    "        self.real_robot = real_robot\n",
    "        \n",
    "        self.move_base_client = actionlib.SimpleActionClient('/move_base', MoveBaseAction)\n",
    "        self.mir_exec_path = rospy.Publisher('mir_exec_path', Path, queue_size=10)\n",
    "        \n",
    "        if self.real_robot:\n",
    "            rospy.Subscriber(\"odom\", Odometry, self.callbackOdometry, queue_size=1)\n",
    "        else:\n",
    "            rospy.Subscriber(\"odom_comb\", Odometry, self.callbackOdometry, queue_size=1)\n",
    "            \n",
    "        rospy.Subscriber(\"mir_collision\", ContactsState, self.collision_callback)\n",
    "        \n",
    "        self.mir_pose = [0.0] * 3\n",
    "        self.mir_twist = [0.0] * 2\n",
    "        self.collision = False\n",
    "        \n",
    "        self.obstacles = [] # [3,n]\n",
    "        self.targets = [] # [3,n]\n",
    "        \n",
    "        self.path_frame = 'map'\n",
    "        \n",
    "        if self.real_robot:\n",
    "            self.path_frame = 'world'\n",
    "\n",
    "            # Apply transform to center the robot, with real_robot we use World frame,\n",
    "            # World is the Map frame translated in XY to center robot\n",
    "            tfBuffer = tf2_ros.Buffer()\n",
    "            listener = tf2_ros.TransformListener(tfBuffer)\n",
    "\n",
    "            trans = tfBuffer.lookup_transform(\"world\", \"map\", rospy.Time(), rospy.Duration(1.0))\n",
    "            v = PyKDL.Vector(trans.transform.translation.x,trans.transform.translation.y,trans.transform.translation.z)\n",
    "            r = PyKDL.Rotation.Quaternion(trans.transform.rotation.x,trans.transform.rotation.y,trans.transform.rotation.z,trans.transform.rotation.w)\n",
    "            self.world_to_map = PyKDL.Frame(r,v)\n",
    "        \n",
    "        rospy.Subscriber(\"robot_pose\", Pose, self.callbackState, queue_size=1)\n",
    "        \n",
    "        # Initialize Path\n",
    "        self.mir_path = Path()\n",
    "        self.mir_path.header.stamp = rospy.Time.now()\n",
    "        self.mir_path.header.frame_id = self.path_frame\n",
    "\n",
    "        # Flag indicating if it is safe to move backwards\n",
    "        self.safe_to_move_back = True\n",
    "        # Flag indicating if it is safe to move forward\n",
    "        self.safe_to_move_front = True\n",
    "        self.rate = rospy.Rate(10) #30Hz\n",
    "        self.reset.set()"
   ]
  }
 ],
 "metadata": {
  "kernelspec": {
   "display_name": "Python 2",
   "language": "python",
   "name": "python2"
  },
  "language_info": {
   "codemirror_mode": {
    "name": "ipython",
    "version": 2
   },
   "file_extension": ".py",
   "mimetype": "text/x-python",
   "name": "python",
   "nbconvert_exporter": "python",
   "pygments_lexer": "ipython2",
   "version": "2.7.17"
  }
 },
 "nbformat": 4,
 "nbformat_minor": 2
}
