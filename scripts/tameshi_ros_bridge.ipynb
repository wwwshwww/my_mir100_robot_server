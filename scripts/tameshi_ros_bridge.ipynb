{
 "cells": [
  {
   "cell_type": "code",
   "execution_count": 4,
   "metadata": {},
   "outputs": [],
   "source": [
    "import rospy\n",
    "import actionlib\n",
    "import PyKDL\n",
    "import tf2_ros\n",
    "from tf_conversions import posemath\n",
    "\n",
    "from move_base_msgs.msg import MoveBaseAction, MoveBaseGoal\n",
    "from geometry_msgs.msg import Twist, Pose, Pose2D, PoseStamped\n",
    "from nav_msgs.msg import Odometry, Path, OccupancyGrid\n",
    "from visualization_msgs.msg import MarkerArray, Marker\n",
    "from gazebo_msgs.msg import ModelState, ContactsState\n",
    "from std_msgs.msg import String\n",
    "from std_srvs.srv import Empty\n",
    "\n",
    "from threading import Event\n",
    "import copy\n",
    "import trimesh\n",
    "import numpy as np\n",
    "\n",
    "from robo_gym_server_modules.robot_server.grpc_msgs.python import robot_server_pb2\n",
    "\n",
    "from roomor.generator import CubeRoomGenerator"
   ]
  },
  {
   "cell_type": "code",
   "execution_count": null,
   "metadata": {},
   "outputs": [],
   "source": []
  }
 ],
 "metadata": {
  "kernelspec": {
   "display_name": "Python 2",
   "language": "python",
   "name": "python2"
  },
  "language_info": {
   "codemirror_mode": {
    "name": "ipython",
    "version": 2
   },
   "file_extension": ".py",
   "mimetype": "text/x-python",
   "name": "python",
   "nbconvert_exporter": "python",
   "pygments_lexer": "ipython2",
   "version": "2.7.17"
  }
 },
 "nbformat": 4,
 "nbformat_minor": 2
}
