{
 "cells": [
  {
   "cell_type": "code",
   "execution_count": null,
   "id": "excess-allergy",
   "metadata": {},
   "outputs": [],
   "source": [
    "a = [1,2,3]\n",
    "all(a)"
   ]
  },
  {
   "cell_type": "code",
   "execution_count": null,
   "id": "focal-hunter",
   "metadata": {},
   "outputs": [],
   "source": [
    "import rospy\n",
    "master = rospy.get_master()\n",
    "target = master.target\n",
    "target._ServerProxy__host.split(\":\")"
   ]
  },
  {
   "cell_type": "code",
   "execution_count": null,
   "id": "electric-penetration",
   "metadata": {},
   "outputs": [],
   "source": [
    "import os\n",
    "\n",
    "master = os.getenv('ROS_MASTER_URI')\n",
    "print(master)\n",
    "host, port = master.split(\"//\")[1].split(\":\")\n",
    "host, int(port)"
   ]
  },
  {
   "cell_type": "code",
   "execution_count": 48,
   "id": "cross-mailman",
   "metadata": {},
   "outputs": [
    {
     "data": {
      "image/svg+xml": [
       "<svg xmlns=\"http://www.w3.org/2000/svg\" xmlns:xlink=\"http://www.w3.org/1999/xlink\" width=\"100.0\" height=\"100.0\" viewBox=\"-3.7134412180231293 -4.16200568832088 7.416095662724635 8.29915064016037\" preserveAspectRatio=\"xMinYMin meet\"><g transform=\"matrix(1,0,0,-1,0,-0.024860736481390866)\"><path fill-rule=\"evenodd\" fill=\"#66cc99\" stroke=\"#555555\" stroke-width=\"0.1659830128032074\" opacity=\"0.6\" d=\"M 3.3952784950659365,-2.767413515400032 L -1.1949287264158641,-3.854629738685311 L -3.40606526838756,-3.6215132783459385 L -3.13659530481183,3.82976900220392 L -1.2593783446739668,3.24520311158609 L 0.6976987793657682,2.160170198064468 L 2.9100029563054335,0.5115481929763414 L 3.3952784950659365,-2.767413515400032 z M -1.391853904836073,-0.5395580842068954 L -1.6627150093597434,-0.8338950714446827 L -1.885360125418356,-0.6290078005026959 L -1.919274263792029,-0.6613116126742561 L -2.195157078988636,-0.37167619999273566 L -1.9055216663071157,-0.09579338479612842 L -1.7130386030455624,-0.2978716165346048 L -1.6861908920738602,-0.26869697968322503 L -1.391853904836073,-0.5395580842068954 z M -2.126578546129174,-2.182928861488247 L -1.9555571870603918,-2.5445248995504284 L -2.3171532251225733,-2.7155462586192107 L -2.4881745841913556,-2.3539502205570293 L -2.126578546129174,-2.182928861488247 z M 2.173552543267047,0.08138614958954593 L 2.2921172001926817,-0.30063796238259977 L 1.9100930882205363,-0.4192026193082349 L 1.8226553779445112,-0.1374718363985592 L 1.7415976516396934,-0.13151827613967404 L 1.7708980846710434,0.267407136217292 L 2.1698234970280095,0.23810670318594207 L 2.1579571196208605,0.07654596805054703 L 2.173552543267047,0.08138614958954593 z M 0.9724721360800604,-2.28512474992653 L 1.370375393054488,-2.3260270492401713 L 1.3294730937408468,-2.723930306214599 L 0.9315698367664191,-2.6830280069009578 L 0.9724721360800604,-2.28512474992653 z M 0.6793604929291797,0.8911280902607275 L 0.8157369808048937,0.9827832946391208 L 0.6890899784944781,0.9883213842428238 L 0.7065646984822824,1.3879394946449275 L 1.1061828088843861,1.370464774657123 L 1.0898699659469562,0.9974168817872199 L 1.2344711551860112,0.7822604979810142 L 0.9024820279177388,0.559138962992455 L 0.6793604929291797,0.8911280902607275 z M 1.264697580016927,1.0664083527615662 L 1.6101445564270538,1.2680674375782472 L 1.8118036412437348,0.9226204611681204 L 1.466356664833608,0.7209613763514393 L 1.264697580016927,1.0664083527615662 z M -1.2817577104489262,0.5797161336644105 L -1.5596026556116176,0.8674698242533255 L -1.2718489650227025,1.145314769416017 L -0.9940040198600111,0.8575610788271021 L -1.2817577104489262,0.5797161336644105 z\" /></g></svg>"
      ],
      "text/plain": [
       "<shapely.geometry.polygon.Polygon at 0x7f326ca4a400>"
      ]
     },
     "execution_count": 48,
     "metadata": {},
     "output_type": "execute_result"
    }
   ],
   "source": [
    "from roomor.generator import CubeRoomGenerator\n",
    "import rospy\n",
    "\n",
    "rospy.init_node(\"asdf\")\n",
    "\n",
    "gazebo_proxy = {\n",
    "            'ros_host': 'localhost', \n",
    "            'ros_port': 11311, \n",
    "            'gazebo_host': 'localhost',\n",
    "            'gazebo_port': 11345\n",
    "}\n",
    "\n",
    "room_generator_params = dict()\n",
    "room_generator_params['obstacle_count'] = 10\n",
    "room_generator_params['obstacle_size'] = 0.4\n",
    "room_generator_params['target_size'] = 0.2\n",
    "room_generator_params['room_length_max'] = 8\n",
    "room_generator_params['room_mass_min'] = 36\n",
    "room_generator_params['room_mass_max'] = 40\n",
    "room_generator_params['room_wall_height'] = 0.8\n",
    "room_generator_params['room_wall_thickness'] = 0.05\n",
    "room_generator_params['agent_size'] = 0.4\n",
    "room_generator_params['wall_threshold'] = 0.01\n",
    "\n",
    "c = CubeRoomGenerator(**room_generator_params, **gazebo_proxy)\n",
    "g = c.generate_new()\n",
    "g.spawn_all()\n",
    "p = g.get_freespace_poly()\n",
    "p\n"
   ]
  },
  {
   "cell_type": "code",
   "execution_count": null,
   "id": "geographic-ensemble",
   "metadata": {},
   "outputs": [],
   "source": [
    "from PIL import Image\n",
    "import numpy as np\n",
    "\n",
    "data = g.get_occupancy_grid(p, [0.1,0.1], np.pi/4)\n",
    "img = Image.fromarray(data.reshape((512,512)), 'L')\n",
    "img.show()"
   ]
  },
  {
   "cell_type": "code",
   "execution_count": null,
   "id": "centered-timber",
   "metadata": {},
   "outputs": [],
   "source": [
    "import numpy as np\n",
    "import shapely\n",
    "import trimesh\n",
    "\n",
    "angle = np.pi/4\n",
    "\n",
    "a = np.identity(3)\n",
    "a[:2, 2] = [1,1]\n",
    "# a = np.array([[1,0,1],[0,1,1], [0,0,1]])\n",
    "b = np.array([[np.cos(angle),-np.sin(angle),0], [np.sin(angle),np.cos(angle),0], [0,0,1]])\n",
    "mat = np.dot(b,a)\n",
    "td = shapely.affinity.affine_transform(p, [mat[0,0],mat[0,1],mat[1,0],mat[1,1],mat[0,2],mat[1,2]])\n",
    "trimesh.path.polygons.plot_polygon([p,td])"
   ]
  },
  {
   "cell_type": "code",
   "execution_count": null,
   "id": "confused-kruger",
   "metadata": {},
   "outputs": [],
   "source": [
    "def asdf(a,b,c,d,e,f=2):\n",
    "    print(a,b,c,d,e,f)\n",
    "    \n",
    "class gh:\n",
    "    def __init__(self, j1, j2):\n",
    "        self.j1 = j1\n",
    "        self.j2 = j2\n",
    "        pass\n",
    "    \n",
    "h = gh(**{'j2':1}, **{'j1':2})\n",
    "print(h.j1)\n",
    "    \n",
    "asdf(**{'a':1, 'b':2}, **{'c':1, 'd':1,'e':1})"
   ]
  },
  {
   "cell_type": "code",
   "execution_count": null,
   "id": "incorporated-diana",
   "metadata": {},
   "outputs": [],
   "source": []
  }
 ],
 "metadata": {
  "kernelspec": {
   "display_name": "Python 2",
   "language": "python",
   "name": "python2"
  },
  "language_info": {
   "codemirror_mode": {
    "name": "ipython",
    "version": 3
   },
   "file_extension": ".py",
   "mimetype": "text/x-python",
   "name": "python",
   "nbconvert_exporter": "python",
   "pygments_lexer": "ipython3",
   "version": "3.6.9"
  }
 },
 "nbformat": 4,
 "nbformat_minor": 5
}
