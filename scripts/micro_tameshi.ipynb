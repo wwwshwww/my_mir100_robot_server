{
 "cells": [
  {
   "cell_type": "code",
   "execution_count": null,
   "id": "toxic-diagram",
   "metadata": {},
   "outputs": [],
   "source": [
    "a = [1,2,3]\n",
    "all(a)"
   ]
  },
  {
   "cell_type": "code",
   "execution_count": null,
   "id": "third-miracle",
   "metadata": {},
   "outputs": [],
   "source": [
    "import rospy\n",
    "master = rospy.get_master()\n",
    "target = master.target\n",
    "target._ServerProxy__host.split(\":\")"
   ]
  },
  {
   "cell_type": "code",
   "execution_count": null,
   "id": "challenging-apparel",
   "metadata": {},
   "outputs": [],
   "source": [
    "import os\n",
    "\n",
    "master = os.getenv('ROS_MASTER_URI')\n",
    "print(master)\n",
    "host, port = master.split(\"//\")[1].split(\":\")\n",
    "host, int(port)"
   ]
  },
  {
   "cell_type": "code",
   "execution_count": 41,
   "id": "recognized-afghanistan",
   "metadata": {},
   "outputs": [
    {
     "data": {
      "image/svg+xml": [
       "<svg xmlns=\"http://www.w3.org/2000/svg\" xmlns:xlink=\"http://www.w3.org/1999/xlink\" width=\"100.0\" height=\"100.0\" viewBox=\"-3.650894018507286 -4.378232705702885 7.299719241141741 8.770930245225044\" preserveAspectRatio=\"xMinYMin meet\"><g transform=\"matrix(1,0,0,-1,0,0.014464833819273437)\"><path fill-rule=\"evenodd\" fill=\"#66cc99\" stroke=\"#555555\" stroke-width=\"0.17541860490450087\" opacity=\"0.6\" d=\"M 3.3239759542927865,-4.053383437361217 L -1.9814696126985218,-2.897797562730066 L -2.7384339246333043,-2.581115610584708 L -3.1289714337994017,2.1568351900639446 L -3.3260447501656176,3.9188192924503706 L -0.16130316650538376,4.06784827118049 L 3.153969221341131,1.3301505818062982 L 3.3239759542927865,-4.053383437361217 z M 0.3718505745428492,-0.9734712147957615 L 0.3084056570047303,-1.3684075925056165 L -0.08653072070512477,-1.3049626749674976 L -0.023085803167005925,-0.9100262972576426 L 0.3718505745428492,-0.9734712147957615 z M 2.1393432111345967,-3.0780269469735204 L 1.7448596940905419,-3.144229324427454 L 1.6786573166366083,-2.749745807383399 L 2.073140833680663,-2.6835434299294656 L 2.1393432111345967,-3.0780269469735204 z M 2.3476973469592823,-2.851218094583015 L 2.0922861033602094,-2.5433786938507903 L 2.400125504092434,-2.2879674502517173 L 2.655536747691507,-2.595806850983942 L 2.3476973469592823,-2.851218094583015 z M -1.4093012358078376,2.58837409784687 L -1.3383011417940331,2.9820224010948717 L -0.9446528385460311,2.9110223070810672 L -1.0156529325598356,2.5173740038330656 L -1.4093012358078376,2.58837409784687 z M -0.7502784985667817,-0.21946478403020964 L -0.6911657224303657,0.17614320337328804 L -0.295557735026868,0.11703042723687196 L -0.3546705111632841,-0.2785775601666257 L -0.7502784985667817,-0.21946478403020964 z M 0.38239416515461444,0.7039429975643565 L 0.32738061182911654,1.1001418225884882 L 0.7235794368532483,1.1551553759139863 L 0.7785929901787463,0.7589565508898545 L 0.38239416515461444,0.7039429975643565 z M -2.1675334124169776,-1.600658506167363 L -2.5432486978591866,-1.4634068239005158 L -2.405997015592339,-1.087691538458307 L -2.03028173015013,-1.2249432207251543 L -2.1675334124169776,-1.600658506167363 z M -0.461745287228227,3.4461814096727275 L -0.7417377993720609,3.1605169331563343 L -1.0274022758884542,3.4405094453001683 L -0.7474097637446204,3.7261739218165615 L -0.461745287228227,3.4461814096727275 z M -0.9574860548980421,1.4366854071134485 L -1.3184040763407743,1.2642377866663588 L -1.490851696787864,1.625155808109091 L -1.1299336753451317,1.7976034285561808 L -0.9574860548980421,1.4366854071134485 z M 0.7804598923312849,2.924926963102659 L 1.1495005433123318,2.7706253172155035 L 0.9951988974251762,2.4015846662344567 L 0.6261582464441293,2.555886312121612 L 0.7804598923312849,2.924926963102659 z\" /></g></svg>"
      ],
      "text/plain": [
       "<shapely.geometry.polygon.Polygon at 0x7f32675ed780>"
      ]
     },
     "execution_count": 41,
     "metadata": {},
     "output_type": "execute_result"
    }
   ],
   "source": [
    "from roomor.generator import CubeRoomGenerator\n",
    "import rospy\n",
    "\n",
    "rospy.init_node(\"asdf\")\n",
    "\n",
    "gazebo_proxy = {\n",
    "            'ros_host': 'localhost', \n",
    "            'ros_port': 11311, \n",
    "            'gazebo_host': 'localhost',\n",
    "            'gazebo_port': 11345\n",
    "}\n",
    "\n",
    "room_generator_params = dict()\n",
    "room_generator_params['obstacle_count'] = 10\n",
    "room_generator_params['obstacle_size'] = 0.4\n",
    "room_generator_params['target_size'] = 0.2\n",
    "room_generator_params['room_length_max'] = 9\n",
    "room_generator_params['room_mass_min'] = 25\n",
    "room_generator_params['room_mass_max'] = 36\n",
    "room_generator_params['room_wall_height'] = 0.8\n",
    "room_generator_params['room_wall_thickness'] = 0.05\n",
    "room_generator_params['agent_size'] = 0.4\n",
    "room_generator_params['wall_threshold'] = 0.01\n",
    "\n",
    "c = CubeRoomGenerator(**room_generator_params, **gazebo_proxy)\n",
    "g = c.generate_new()\n",
    "g.spawn_all()\n",
    "p = g.get_freespace_poly()\n",
    "p\n"
   ]
  },
  {
   "cell_type": "code",
   "execution_count": null,
   "id": "legitimate-buddy",
   "metadata": {},
   "outputs": [],
   "source": [
    "from PIL import Image\n",
    "import numpy as np\n",
    "\n",
    "data = g.get_occupancy_grid(p, [0.1,0.1], np.pi/4)\n",
    "img = Image.fromarray(data.reshape((512,512)), 'L')\n",
    "img.show()"
   ]
  },
  {
   "cell_type": "code",
   "execution_count": null,
   "id": "rental-chile",
   "metadata": {},
   "outputs": [],
   "source": [
    "import numpy as np\n",
    "import shapely\n",
    "import trimesh\n",
    "\n",
    "angle = np.pi/4\n",
    "\n",
    "a = np.identity(3)\n",
    "a[:2, 2] = [1,1]\n",
    "# a = np.array([[1,0,1],[0,1,1], [0,0,1]])\n",
    "b = np.array([[np.cos(angle),-np.sin(angle),0], [np.sin(angle),np.cos(angle),0], [0,0,1]])\n",
    "mat = np.dot(b,a)\n",
    "td = shapely.affinity.affine_transform(p, [mat[0,0],mat[0,1],mat[1,0],mat[1,1],mat[0,2],mat[1,2]])\n",
    "trimesh.path.polygons.plot_polygon([p,td])"
   ]
  },
  {
   "cell_type": "code",
   "execution_count": null,
   "id": "extensive-princess",
   "metadata": {},
   "outputs": [],
   "source": [
    "def asdf(a,b,c,d,e,f=2):\n",
    "    print(a,b,c,d,e,f)\n",
    "    \n",
    "class gh:\n",
    "    def __init__(self, j1, j2):\n",
    "        self.j1 = j1\n",
    "        self.j2 = j2\n",
    "        pass\n",
    "    \n",
    "h = gh(**{'j2':1}, **{'j1':2})\n",
    "print(h.j1)\n",
    "    \n",
    "asdf(**{'a':1, 'b':2}, **{'c':1, 'd':1,'e':1})"
   ]
  },
  {
   "cell_type": "code",
   "execution_count": null,
   "id": "missing-times",
   "metadata": {},
   "outputs": [],
   "source": []
  }
 ],
 "metadata": {
  "kernelspec": {
   "display_name": "Python 2",
   "language": "python",
   "name": "python2"
  },
  "language_info": {
   "codemirror_mode": {
    "name": "ipython",
    "version": 3
   },
   "file_extension": ".py",
   "mimetype": "text/x-python",
   "name": "python",
   "nbconvert_exporter": "python",
   "pygments_lexer": "ipython3",
   "version": "3.6.9"
  }
 },
 "nbformat": 4,
 "nbformat_minor": 5
}
