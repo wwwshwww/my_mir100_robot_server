{
 "cells": [
  {
   "cell_type": "code",
   "execution_count": null,
   "id": "opened-elizabeth",
   "metadata": {},
   "outputs": [],
   "source": [
    "a = [1,2,3]\n",
    "all(a)"
   ]
  },
  {
   "cell_type": "code",
   "execution_count": null,
   "id": "harmful-extreme",
   "metadata": {},
   "outputs": [],
   "source": [
    "import rospy\n",
    "master = rospy.get_master()\n",
    "target = master.target\n",
    "target._ServerProxy__host.split(\":\")"
   ]
  },
  {
   "cell_type": "code",
   "execution_count": null,
   "id": "driven-indiana",
   "metadata": {},
   "outputs": [],
   "source": [
    "import os\n",
    "\n",
    "master = os.getenv('ROS_MASTER_URI')\n",
    "print(master)\n",
    "host, port = master.split(\"//\")[1].split(\":\")\n",
    "host, int(port)"
   ]
  },
  {
   "cell_type": "code",
   "execution_count": 47,
   "id": "turkish-amsterdam",
   "metadata": {},
   "outputs": [
    {
     "data": {
      "image/svg+xml": [
       "<svg xmlns=\"http://www.w3.org/2000/svg\" xmlns:xlink=\"http://www.w3.org/1999/xlink\" width=\"100.0\" height=\"100.0\" viewBox=\"-3.31781783868702 -4.208249124984323 6.622131831400512 8.427629007343082\" preserveAspectRatio=\"xMinYMin meet\"><g transform=\"matrix(1,0,0,-1,0,0.011130757374437472)\"><path fill-rule=\"evenodd\" fill=\"#66cc99\" stroke=\"#555555\" stroke-width=\"0.16855258014686164\" opacity=\"0.6\" d=\"M 2.9921795850341195,-2.3679834975424043 L -1.6722980738602655,-3.8961147173049495 L -3.005683431007647,1.2641458710569848 L -2.9411202507113985,3.9072454746793865 L 2.7944308665906026,3.167520889071779 L 2.9921795850341195,-2.3679834975424043 z M -0.031977128338879,1.8754307733337512 L 0.3679884044889216,1.8806817303678147 L 0.3732393615229852,1.480716197540014 L -0.026726171304815416,1.4754652405059505 L -0.031977128338879,1.8754307733337512 z M 0.6075491005686939,-2.2959370428543453 L 0.8692839392883912,-1.9934558464133532 L 1.1717651357293835,-2.2551906851330505 L 0.9100302970096862,-2.5576718815740427 L 0.6075491005686939,-2.2959370428543453 z M 0.39092600486369333,-2.0465321183280047 L 0.2744985666764971,-2.429212992735345 L -0.10818230773084322,-2.312785554548149 L 0.008245130456353,-1.9301046801408086 L 0.39092600486369333,-2.0465321183280047 z M 2.2324131988618854,0.035936037339304894 L 1.940458645706805,0.309363429697893 L 2.213886038065393,0.6013179828529736 L 2.5058405912204735,0.3278905904943855 L 2.2324131988618854,0.035936037339304894 z M 1.742893742615915,0.5302733060359641 L 1.5994814619506228,0.9036804802498236 L 1.9728886361644822,1.0470927609151157 L 2.116300916829774,0.6736855867012562 L 1.742893742615915,0.5302733060359641 z M 0.7023421697311523,0.6858364057656225 L 0.3763433339496682,0.4540503857620058 L 0.14455731394605148,0.7800492215434898 L 0.4705561497275355,1.0118352415471066 L 0.7023421697311523,0.6858364057656225 z M -2.4166387492172974,0.17612875444072054 L -2.0815143556804805,0.3945129133364165 L -1.8631301967847844,0.05938851979959944 L -2.1982545903216013,-0.15899563909609654 L -2.4166387492172974,0.17612875444072054 z M 2.2300606746105713,-1.7855594645796424 L 2.259961117373973,-1.8806350065260893 L 2.494385911444733,-1.728355180722378 L 2.712284383081324,-2.0637955719373267 L 2.3768439918663753,-2.2816940435739177 L 2.310507990768181,-2.179574125095899 L 1.9684877212227148,-2.2871365673823467 L 1.8484856465152908,-1.9055615392870664 L 2.2300606746105713,-1.7855594645796424 z M 1.2547951157840205,1.8513543945137565 L 0.8656191857492392,1.9437778519342788 L 0.9580426431697615,2.33295378196906 L 1.3472185732045427,2.2405303245485375 L 1.2547951157840205,1.8513543945137565 z\" /></g></svg>"
      ],
      "text/plain": [
       "<shapely.geometry.polygon.Polygon at 0x7f326c8c1160>"
      ]
     },
     "execution_count": 47,
     "metadata": {},
     "output_type": "execute_result"
    }
   ],
   "source": [
    "from roomor.generator import CubeRoomGenerator\n",
    "import rospy\n",
    "\n",
    "rospy.init_node(\"asdf\")\n",
    "\n",
    "gazebo_proxy = {\n",
    "            'ros_host': 'localhost', \n",
    "            'ros_port': 11311, \n",
    "            'gazebo_host': 'localhost',\n",
    "            'gazebo_port': 11345\n",
    "}\n",
    "\n",
    "room_generator_params = dict()\n",
    "room_generator_params['obstacle_count'] = 10\n",
    "room_generator_params['obstacle_size'] = 0.4\n",
    "room_generator_params['target_size'] = 0.2\n",
    "room_generator_params['room_length_max'] = 8\n",
    "room_generator_params['room_mass_min'] = 36\n",
    "room_generator_params['room_mass_max'] = 40\n",
    "room_generator_params['room_wall_height'] = 0.8\n",
    "room_generator_params['room_wall_thickness'] = 0.05\n",
    "room_generator_params['agent_size'] = 0.4\n",
    "room_generator_params['wall_threshold'] = 0.01\n",
    "\n",
    "c = CubeRoomGenerator(**room_generator_params, **gazebo_proxy)\n",
    "g = c.generate_new()\n",
    "g.spawn_all()\n",
    "p = g.get_freespace_poly()\n",
    "p\n"
   ]
  },
  {
   "cell_type": "code",
   "execution_count": null,
   "id": "outdoor-jersey",
   "metadata": {},
   "outputs": [],
   "source": [
    "from PIL import Image\n",
    "import numpy as np\n",
    "\n",
    "data = g.get_occupancy_grid(p, [0.1,0.1], np.pi/4)\n",
    "img = Image.fromarray(data.reshape((512,512)), 'L')\n",
    "img.show()"
   ]
  },
  {
   "cell_type": "code",
   "execution_count": null,
   "id": "front-stephen",
   "metadata": {},
   "outputs": [],
   "source": [
    "import numpy as np\n",
    "import shapely\n",
    "import trimesh\n",
    "\n",
    "angle = np.pi/4\n",
    "\n",
    "a = np.identity(3)\n",
    "a[:2, 2] = [1,1]\n",
    "# a = np.array([[1,0,1],[0,1,1], [0,0,1]])\n",
    "b = np.array([[np.cos(angle),-np.sin(angle),0], [np.sin(angle),np.cos(angle),0], [0,0,1]])\n",
    "mat = np.dot(b,a)\n",
    "td = shapely.affinity.affine_transform(p, [mat[0,0],mat[0,1],mat[1,0],mat[1,1],mat[0,2],mat[1,2]])\n",
    "trimesh.path.polygons.plot_polygon([p,td])"
   ]
  },
  {
   "cell_type": "code",
   "execution_count": null,
   "id": "designing-internet",
   "metadata": {},
   "outputs": [],
   "source": [
    "def asdf(a,b,c,d,e,f=2):\n",
    "    print(a,b,c,d,e,f)\n",
    "    \n",
    "class gh:\n",
    "    def __init__(self, j1, j2):\n",
    "        self.j1 = j1\n",
    "        self.j2 = j2\n",
    "        pass\n",
    "    \n",
    "h = gh(**{'j2':1}, **{'j1':2})\n",
    "print(h.j1)\n",
    "    \n",
    "asdf(**{'a':1, 'b':2}, **{'c':1, 'd':1,'e':1})"
   ]
  },
  {
   "cell_type": "code",
   "execution_count": null,
   "id": "minimal-phase",
   "metadata": {},
   "outputs": [],
   "source": []
  }
 ],
 "metadata": {
  "kernelspec": {
   "display_name": "Python 2",
   "language": "python",
   "name": "python2"
  },
  "language_info": {
   "codemirror_mode": {
    "name": "ipython",
    "version": 3
   },
   "file_extension": ".py",
   "mimetype": "text/x-python",
   "name": "python",
   "nbconvert_exporter": "python",
   "pygments_lexer": "ipython3",
   "version": "3.6.9"
  }
 },
 "nbformat": 4,
 "nbformat_minor": 5
}
