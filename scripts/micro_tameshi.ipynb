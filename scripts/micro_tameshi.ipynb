{
 "cells": [
  {
   "cell_type": "code",
   "execution_count": null,
   "id": "excess-allergy",
   "metadata": {},
   "outputs": [],
   "source": [
    "a = [1,2,3]\n",
    "all(a)"
   ]
  },
  {
   "cell_type": "code",
   "execution_count": null,
   "id": "focal-hunter",
   "metadata": {},
   "outputs": [],
   "source": [
    "import rospy\n",
    "master = rospy.get_master()\n",
    "target = master.target\n",
    "target._ServerProxy__host.split(\":\")"
   ]
  },
  {
   "cell_type": "code",
   "execution_count": null,
   "id": "electric-penetration",
   "metadata": {},
   "outputs": [],
   "source": [
    "import os\n",
    "\n",
    "master = os.getenv('ROS_MASTER_URI')\n",
    "print(master)\n",
    "host, port = master.split(\"//\")[1].split(\":\")\n",
    "host, int(port)"
   ]
  },
  {
   "cell_type": "code",
   "execution_count": 1,
   "id": "talented-arrangement",
   "metadata": {},
   "outputs": [
    {
     "name": "stdout",
     "output_type": "stream",
     "text": [
      "ERROR! Session/line number was not unique in database. History logging moved to new session 50\n",
      "shell-init: error retrieving current directory: getcwd: cannot access parent directories: No such file or directory\n",
      "Python 2.7.17\n"
     ]
    }
   ],
   "source": [
    "!python --version"
   ]
  },
  {
   "cell_type": "code",
   "execution_count": 3,
   "id": "cross-mailman",
   "metadata": {},
   "outputs": [
    {
     "data": {
      "image/svg+xml": [
       "<svg xmlns=\"http://www.w3.org/2000/svg\" xmlns:xlink=\"http://www.w3.org/1999/xlink\" width=\"100.0\" height=\"100.0\" viewBox=\"-3.6900819969010232 -3.80150891222965 7.378868131698587 7.623740046160206\" preserveAspectRatio=\"xMinYMin meet\"><g transform=\"matrix(1,0,0,-1,0,0.020722221700905763)\"><path fill-rule=\"evenodd\" fill=\"#66cc99\" stroke=\"#555555\" stroke-width=\"0.15247480092320412\" opacity=\"0.6\" d=\"M 3.0805422981710535,-3.5191481697792724 L -1.5136949695416209,-2.0987717066864273 L -3.304819380806069,-0.3538608681681085 L -3.407721254450645,3.5398703914801777 L -0.9222233274351003,3.5340651588843035 L 3.4064253923471854,2.6749057267952954 L 3.0805422981710535,-3.5191481697792724 z M -0.7165855390069761,0.820270002392629 L -1.1082262913142262,0.9016181500802761 L -1.0268781436265793,1.2932589023875263 L -0.635237391319329,1.2119107546998793 L -0.7165855390069761,0.820270002392629 z M -1.47836349469021,1.7741042790300514 L -1.0885545549880977,1.8638204455125473 L -0.9988383885056019,1.4740115058104348 L -1.3886473282077143,1.384295339327939 L -1.47836349469021,1.7741042790300514 z M -1.4749867241942827,-1.0528519174134168 L -1.267610350790889,-1.3948972941605031 L -1.6096557275379753,-1.6022736675638969 L -1.817032100941369,-1.2602282908168105 L -1.4749867241942827,-1.0528519174134168 z M -0.15703134368178207,-0.9802674898386179 L -0.4838902525110351,-1.2108390703054006 L -0.7144618329778178,-0.8839801614761476 L -0.3876029241485648,-0.6534085810093648 L -0.15703134368178207,-0.9802674898386179 z M -0.3683374934154273,-0.6130587805216514 L -0.6881062549511556,-0.3727507716124465 L -0.44779824604195073,-0.052982010076718156 L -0.12802948450622237,-0.2932900189859231 L -0.3683374934154273,-0.6130587805216514 z M 1.950156996248471,-1.6626167004604007 L 2.216081532856485,-1.3638121810337145 L 2.5148860522831713,-1.6297367176417286 L 2.2489615156751572,-1.9285412370684147 L 1.950156996248471,-1.6626167004604007 z M 2.0815122199384275,-1.0497520440728383 L 1.784608842852196,-1.317797534008392 L 1.5165633529166422,-1.0208941569221606 L 1.8134667300028737,-0.7528486669866068 L 2.0815122199384275,-1.0497520440728383 z M -1.5108042054898938,2.0987067106648607 L -1.8929052853406523,1.9803903348883678 L -2.0112216611171454,2.3624914147391265 L -1.629120581266387,2.4808077905156196 L -1.5108042054898938,2.0987067106648607 z M -2.3938289080244206,0.7993467498705428 L -2.540348678373769,0.4271479362013236 L -2.912547492042988,0.5736677065506722 L -2.7660277216936398,0.9458665202198915 L -2.3938289080244206,0.7993467498705428 z M 1.0892175599951899,2.4258182184012558 L 1.3393528452015921,2.7379597553595914 L 1.6514943821599277,2.487824470153189 L 1.4013590969535255,2.1756829331948535 L 1.0892175599951899,2.4258182184012558 z\" /></g></svg>"
      ],
      "text/plain": [
       "<shapely.geometry.polygon.Polygon at 0x7fce8015e828>"
      ]
     },
     "execution_count": 3,
     "metadata": {},
     "output_type": "execute_result"
    }
   ],
   "source": [
    "from roomor.generator import CubeRoomGenerator\n",
    "# import rospy\n",
    "\n",
    "# rospy.init_node(\"asdf\")\n",
    "\n",
    "gazebo_proxy = {\n",
    "            'ros_host': 'localhost', \n",
    "            'ros_port': 11311, \n",
    "            'gazebo_host': 'localhost',\n",
    "            'gazebo_port': 11345\n",
    "}\n",
    "\n",
    "room_generator_params = dict()\n",
    "room_generator_params['obstacle_count'] = 10\n",
    "room_generator_params['obstacle_size'] = 0.4\n",
    "room_generator_params['target_size'] = 0.2\n",
    "room_generator_params['room_length_max'] = 8\n",
    "room_generator_params['room_mass_min'] = 36\n",
    "room_generator_params['room_mass_max'] = 40\n",
    "room_generator_params['room_wall_height'] = 0.8\n",
    "room_generator_params['room_wall_thickness'] = 0.05\n",
    "room_generator_params['agent_size'] = 0.4\n",
    "room_generator_params['wall_threshold'] = 0.01\n",
    "\n",
    "c = CubeRoomGenerator(**room_generator_params, **gazebo_proxy)\n",
    "g = c.generate_new()\n",
    "g.spawn_all()\n",
    "p = g.get_freespace_poly()\n",
    "p\n"
   ]
  },
  {
   "cell_type": "code",
   "execution_count": 26,
   "id": "postal-porter",
   "metadata": {},
   "outputs": [
    {
     "data": {
      "text/plain": [
       "array([[-1.23860094,  1.62405789],\n",
       "       [-1.54232123, -1.32756279],\n",
       "       [-0.40806787, -0.3330204 ],\n",
       "       [ 2.23252152, -1.64617671],\n",
       "       [-1.76101293,  2.23059906],\n",
       "       [-2.6531882 ,  0.68650723],\n",
       "       [-0.87173184,  1.05676445],\n",
       "       [ 1.37035597,  2.45682134],\n",
       "       [ 1.79903779, -1.0353231 ],\n",
       "       [-0.43574659, -0.93212383]])"
      ]
     },
     "execution_count": 26,
     "metadata": {},
     "output_type": "execute_result"
    }
   ],
   "source": [
    "obs = g.obstacle_pose['positions'][:,:2]\n",
    "obs"
   ]
  },
  {
   "cell_type": "code",
   "execution_count": 13,
   "id": "proved-tours",
   "metadata": {},
   "outputs": [
    {
     "data": {
      "image/svg+xml": [
       "<svg xmlns=\"http://www.w3.org/2000/svg\" xmlns:xlink=\"http://www.w3.org/1999/xlink\" width=\"100.0\" height=\"100.0\" viewBox=\"-3.6900819969010232 -3.80150891222965 7.378868131698587 7.623740046160206\" preserveAspectRatio=\"xMinYMin meet\"><g transform=\"matrix(1,0,0,-1,0,0.020722221700905763)\"><path fill-rule=\"evenodd\" fill=\"#66cc99\" stroke=\"#555555\" stroke-width=\"0.15247480092320412\" opacity=\"0.6\" d=\"M 3.0805422981710535,-3.5191481697792724 L -1.5136949695416209,-2.0987717066864273 L -3.304819380806069,-0.3538608681681085 L -3.407721254450645,3.5398703914801777 L -0.9222233274351003,3.5340651588843035 L 3.4064253923471854,2.6749057267952954 L 3.0805422981710535,-3.5191481697792724 z M 2.2489615156751572,-1.9285412370684147 L 2.5148860522831713,-1.6297367176417286 L 2.0815122199384275,-1.0497520440728383 L 1.8134667300028737,-0.7528486669866068 L 1.5165633529166422,-1.0208941569221606 L 1.950156996248471,-1.6626167004604007 L 2.2489615156751572,-1.9285412370684147 z M -2.7660277216936398,0.9458665202198915 L -2.912547492042988,0.5736677065506722 L -2.540348678373769,0.4271479362013236 L -2.3938289080244206,0.7993467498705428 L -2.7660277216936398,0.9458665202198915 z M -1.817032100941369,-1.2602282908168105 L -1.6096557275379753,-1.6022736675638969 L -1.267610350790889,-1.3948972941605031 L -1.4749867241942827,-1.0528519174134168 L -1.817032100941369,-1.2602282908168105 z M -0.12802948450622237,-0.2932900189859231 L -0.44779824604195073,-0.052982010076718156 L -0.6881062549511556,-0.3727507716124465 L -0.7144618329778178,-0.8839801614761476 L -0.4838902525110351,-1.2108390703054006 L -0.15703134368178207,-0.9802674898386179 L -0.12802948450622237,-0.2932900189859231 z M -1.629120581266387,2.4808077905156196 L -2.0112216611171454,2.3624914147391265 L -1.8929052853406523,1.9803903348883678 L -1.5108042054898938,2.0987067106648607 L -1.629120581266387,2.4808077905156196 z M 1.0892175599951899,2.4258182184012558 L 1.4013590969535255,2.1756829331948535 L 1.6514943821599277,2.487824470153189 L 1.3393528452015921,2.7379597553595914 L 1.0892175599951899,2.4258182184012558 z M -0.7165855390069761,0.820270002392629 L -0.635237391319329,1.2119107546998793 L -1.0885545549880977,1.8638204455125473 L -1.47836349469021,1.7741042790300514 L -1.3886473282077143,1.384295339327939 L -1.1082262913142262,0.9016181500802761 L -0.7165855390069761,0.820270002392629 z\" /></g></svg>"
      ],
      "text/plain": [
       "<shapely.geometry.polygon.Polygon at 0x7fce803b1d30>"
      ]
     },
     "execution_count": 13,
     "metadata": {},
     "output_type": "execute_result"
    }
   ],
   "source": [
    "freezone = g.get_freezone_poly()\n",
    "freezone"
   ]
  },
  {
   "cell_type": "code",
   "execution_count": 49,
   "id": "quick-operator",
   "metadata": {},
   "outputs": [
    {
     "name": "stdout",
     "output_type": "stream",
     "text": [
      "[[1.3715597 1.7961072]]\n"
     ]
    },
    {
     "data": {
      "text/plain": [
       "0.6607152432485531"
      ]
     },
     "execution_count": 49,
     "metadata": {},
     "output_type": "execute_result"
    }
   ],
   "source": [
    "pos = trimesh.path.polygons.sample(freezone, 1)\n",
    "poss = np.full([len(obs),2], pos)\n",
    "print(pos)\n",
    "np.min(np.linalg.norm(pos-obs, axis=1))"
   ]
  },
  {
   "cell_type": "code",
   "execution_count": 77,
   "id": "military-excellence",
   "metadata": {},
   "outputs": [
    {
     "name": "stdout",
     "output_type": "stream",
     "text": [
      "1.3195149308847052\n",
      "[0.06668089 2.66066179]\n"
     ]
    }
   ],
   "source": [
    "thresh = 1.0\n",
    "\n",
    "poses = trimesh.path.polygons.sample(freezone, 100)\n",
    "pos = [0,0]\n",
    "for p in poses:\n",
    "    poss = np.full([len(obs),2], p)\n",
    "    min_norm = np.min(np.linalg.norm(poss-obs, axis=1))\n",
    "    if min_norm > 1.0:\n",
    "        pos = p\n",
    "        print(min_norm)\n",
    "        break\n",
    "        \n",
    "print(pos)"
   ]
  },
  {
   "cell_type": "code",
   "execution_count": null,
   "id": "geographic-ensemble",
   "metadata": {},
   "outputs": [],
   "source": [
    "from PIL import Image\n",
    "import numpy as np\n",
    "\n",
    "data = g.get_occupancy_grid(p, [0.1,0.1], np.pi/4)\n",
    "img = Image.fromarray(data.reshape((512,512)), 'L')\n",
    "img.show()"
   ]
  },
  {
   "cell_type": "code",
   "execution_count": 62,
   "id": "centered-timber",
   "metadata": {},
   "outputs": [
    {
     "ename": "AttributeError",
     "evalue": "'numpy.ndarray' object has no attribute 'is_empty'",
     "output_type": "error",
     "traceback": [
      "\u001b[0;31m---------------------------------------------------------------------------\u001b[0m",
      "\u001b[0;31mAttributeError\u001b[0m                            Traceback (most recent call last)",
      "\u001b[0;32m<ipython-input-62-b87af2f52a20>\u001b[0m in \u001b[0;36m<module>\u001b[0;34m\u001b[0m\n\u001b[1;32m     10\u001b[0m \u001b[0mb\u001b[0m \u001b[0;34m=\u001b[0m \u001b[0mnp\u001b[0m\u001b[0;34m.\u001b[0m\u001b[0marray\u001b[0m\u001b[0;34m(\u001b[0m\u001b[0;34m[\u001b[0m\u001b[0;34m[\u001b[0m\u001b[0mnp\u001b[0m\u001b[0;34m.\u001b[0m\u001b[0mcos\u001b[0m\u001b[0;34m(\u001b[0m\u001b[0mangle\u001b[0m\u001b[0;34m)\u001b[0m\u001b[0;34m,\u001b[0m\u001b[0;34m-\u001b[0m\u001b[0mnp\u001b[0m\u001b[0;34m.\u001b[0m\u001b[0msin\u001b[0m\u001b[0;34m(\u001b[0m\u001b[0mangle\u001b[0m\u001b[0;34m)\u001b[0m\u001b[0;34m,\u001b[0m\u001b[0;36m0\u001b[0m\u001b[0;34m]\u001b[0m\u001b[0;34m,\u001b[0m \u001b[0;34m[\u001b[0m\u001b[0mnp\u001b[0m\u001b[0;34m.\u001b[0m\u001b[0msin\u001b[0m\u001b[0;34m(\u001b[0m\u001b[0mangle\u001b[0m\u001b[0;34m)\u001b[0m\u001b[0;34m,\u001b[0m\u001b[0mnp\u001b[0m\u001b[0;34m.\u001b[0m\u001b[0mcos\u001b[0m\u001b[0;34m(\u001b[0m\u001b[0mangle\u001b[0m\u001b[0;34m)\u001b[0m\u001b[0;34m,\u001b[0m\u001b[0;36m0\u001b[0m\u001b[0;34m]\u001b[0m\u001b[0;34m,\u001b[0m \u001b[0;34m[\u001b[0m\u001b[0;36m0\u001b[0m\u001b[0;34m,\u001b[0m\u001b[0;36m0\u001b[0m\u001b[0;34m,\u001b[0m\u001b[0;36m1\u001b[0m\u001b[0;34m]\u001b[0m\u001b[0;34m]\u001b[0m\u001b[0;34m)\u001b[0m\u001b[0;34m\u001b[0m\u001b[0;34m\u001b[0m\u001b[0m\n\u001b[1;32m     11\u001b[0m \u001b[0mmat\u001b[0m \u001b[0;34m=\u001b[0m \u001b[0mnp\u001b[0m\u001b[0;34m.\u001b[0m\u001b[0mdot\u001b[0m\u001b[0;34m(\u001b[0m\u001b[0mb\u001b[0m\u001b[0;34m,\u001b[0m\u001b[0ma\u001b[0m\u001b[0;34m)\u001b[0m\u001b[0;34m\u001b[0m\u001b[0;34m\u001b[0m\u001b[0m\n\u001b[0;32m---> 12\u001b[0;31m \u001b[0mtd\u001b[0m \u001b[0;34m=\u001b[0m \u001b[0mshapely\u001b[0m\u001b[0;34m.\u001b[0m\u001b[0maffinity\u001b[0m\u001b[0;34m.\u001b[0m\u001b[0maffine_transform\u001b[0m\u001b[0;34m(\u001b[0m\u001b[0mp\u001b[0m\u001b[0;34m,\u001b[0m \u001b[0;34m[\u001b[0m\u001b[0mmat\u001b[0m\u001b[0;34m[\u001b[0m\u001b[0;36m0\u001b[0m\u001b[0;34m,\u001b[0m\u001b[0;36m0\u001b[0m\u001b[0;34m]\u001b[0m\u001b[0;34m,\u001b[0m\u001b[0mmat\u001b[0m\u001b[0;34m[\u001b[0m\u001b[0;36m0\u001b[0m\u001b[0;34m,\u001b[0m\u001b[0;36m1\u001b[0m\u001b[0;34m]\u001b[0m\u001b[0;34m,\u001b[0m\u001b[0mmat\u001b[0m\u001b[0;34m[\u001b[0m\u001b[0;36m1\u001b[0m\u001b[0;34m,\u001b[0m\u001b[0;36m0\u001b[0m\u001b[0;34m]\u001b[0m\u001b[0;34m,\u001b[0m\u001b[0mmat\u001b[0m\u001b[0;34m[\u001b[0m\u001b[0;36m1\u001b[0m\u001b[0;34m,\u001b[0m\u001b[0;36m1\u001b[0m\u001b[0;34m]\u001b[0m\u001b[0;34m,\u001b[0m\u001b[0mmat\u001b[0m\u001b[0;34m[\u001b[0m\u001b[0;36m0\u001b[0m\u001b[0;34m,\u001b[0m\u001b[0;36m2\u001b[0m\u001b[0;34m]\u001b[0m\u001b[0;34m,\u001b[0m\u001b[0mmat\u001b[0m\u001b[0;34m[\u001b[0m\u001b[0;36m1\u001b[0m\u001b[0;34m,\u001b[0m\u001b[0;36m2\u001b[0m\u001b[0;34m]\u001b[0m\u001b[0;34m]\u001b[0m\u001b[0;34m)\u001b[0m\u001b[0;34m\u001b[0m\u001b[0;34m\u001b[0m\u001b[0m\n\u001b[0m\u001b[1;32m     13\u001b[0m \u001b[0mtrimesh\u001b[0m\u001b[0;34m.\u001b[0m\u001b[0mpath\u001b[0m\u001b[0;34m.\u001b[0m\u001b[0mpolygons\u001b[0m\u001b[0;34m.\u001b[0m\u001b[0mplot_polygon\u001b[0m\u001b[0;34m(\u001b[0m\u001b[0;34m[\u001b[0m\u001b[0mp\u001b[0m\u001b[0;34m,\u001b[0m\u001b[0mtd\u001b[0m\u001b[0;34m]\u001b[0m\u001b[0;34m)\u001b[0m\u001b[0;34m\u001b[0m\u001b[0;34m\u001b[0m\u001b[0m\n",
      "\u001b[0;32m/usr/local/lib/python3.6/dist-packages/shapely/speedups/__init__.py\u001b[0m in \u001b[0;36maffine_transform\u001b[0;34m(geom, matrix)\u001b[0m\n\u001b[1;32m     71\u001b[0m     \u001b[0;31m# copy docstring from original function\u001b[0m\u001b[0;34m\u001b[0m\u001b[0;34m\u001b[0m\u001b[0;34m\u001b[0m\u001b[0m\n\u001b[1;32m     72\u001b[0m     \u001b[0;32mdef\u001b[0m \u001b[0maffine_transform\u001b[0m\u001b[0;34m(\u001b[0m\u001b[0mgeom\u001b[0m\u001b[0;34m,\u001b[0m \u001b[0mmatrix\u001b[0m\u001b[0;34m)\u001b[0m\u001b[0;34m:\u001b[0m\u001b[0;34m\u001b[0m\u001b[0;34m\u001b[0m\u001b[0m\n\u001b[0;32m---> 73\u001b[0;31m         \u001b[0;32mreturn\u001b[0m \u001b[0m_speedups\u001b[0m\u001b[0;34m.\u001b[0m\u001b[0maffine_transform\u001b[0m\u001b[0;34m(\u001b[0m\u001b[0mgeom\u001b[0m\u001b[0;34m,\u001b[0m \u001b[0mmatrix\u001b[0m\u001b[0;34m)\u001b[0m\u001b[0;34m\u001b[0m\u001b[0;34m\u001b[0m\u001b[0m\n\u001b[0m\u001b[1;32m     74\u001b[0m     \u001b[0maffine_transform\u001b[0m\u001b[0;34m.\u001b[0m\u001b[0m__doc__\u001b[0m \u001b[0;34m=\u001b[0m \u001b[0mshapely\u001b[0m\u001b[0;34m.\u001b[0m\u001b[0maffinity\u001b[0m\u001b[0;34m.\u001b[0m\u001b[0maffine_transform\u001b[0m\u001b[0;34m.\u001b[0m\u001b[0m__doc__\u001b[0m\u001b[0;34m\u001b[0m\u001b[0;34m\u001b[0m\u001b[0m\n\u001b[1;32m     75\u001b[0m     \u001b[0mshapely\u001b[0m\u001b[0;34m.\u001b[0m\u001b[0maffinity\u001b[0m\u001b[0;34m.\u001b[0m\u001b[0maffine_transform\u001b[0m \u001b[0;34m=\u001b[0m \u001b[0maffine_transform\u001b[0m\u001b[0;34m\u001b[0m\u001b[0;34m\u001b[0m\u001b[0m\n",
      "\u001b[0;32m/usr/local/lib/python3.6/dist-packages/shapely/speedups/_speedups.pyx\u001b[0m in \u001b[0;36mshapely.speedups._speedups.affine_transform\u001b[0;34m()\u001b[0m\n",
      "\u001b[0;32m/usr/local/lib/python3.6/dist-packages/shapely/speedups/_speedups.pyx\u001b[0m in \u001b[0;36mshapely.speedups._speedups.affine_transform\u001b[0;34m()\u001b[0m\n",
      "\u001b[0;31mAttributeError\u001b[0m: 'numpy.ndarray' object has no attribute 'is_empty'"
     ]
    }
   ],
   "source": [
    "import numpy as np\n",
    "import shapely\n",
    "import trimesh\n",
    "\n",
    "angle = np.pi/4\n",
    "\n",
    "a = np.identity(3)\n",
    "a[:2, 2] = [1,1]\n",
    "# a = np.array([[1,0,1],[0,1,1], [0,0,1]])\n",
    "b = np.array([[np.cos(angle),-np.sin(angle),0], [np.sin(angle),np.cos(angle),0], [0,0,1]])\n",
    "mat = np.dot(b,a)\n",
    "td = shapely.affinity.affine_transform(p, [mat[0,0],mat[0,1],mat[1,0],mat[1,1],mat[0,2],mat[1,2]])\n",
    "trimesh.path.polygons.plot_polygon([p,td])"
   ]
  },
  {
   "cell_type": "code",
   "execution_count": null,
   "id": "confused-kruger",
   "metadata": {},
   "outputs": [],
   "source": [
    "def asdf(a,b,c,d,e,f=2):\n",
    "    print(a,b,c,d,e,f)\n",
    "    \n",
    "class gh:\n",
    "    def __init__(self, j1, j2):\n",
    "        self.j1 = j1\n",
    "        self.j2 = j2\n",
    "        pass\n",
    "    \n",
    "h = gh(**{'j2':1}, **{'j1':2})\n",
    "print(h.j1)\n",
    "    \n",
    "asdf(**{'a':1, 'b':2}, **{'c':1, 'd':1,'e':1})"
   ]
  },
  {
   "cell_type": "code",
   "execution_count": null,
   "id": "incorporated-diana",
   "metadata": {},
   "outputs": [],
   "source": []
  }
 ],
 "metadata": {
  "kernelspec": {
   "display_name": "Python 2",
   "language": "python",
   "name": "python2"
  },
  "language_info": {
   "codemirror_mode": {
    "name": "ipython",
    "version": 3
   },
   "file_extension": ".py",
   "mimetype": "text/x-python",
   "name": "python",
   "nbconvert_exporter": "python",
   "pygments_lexer": "ipython3",
   "version": "3.6.9"
  }
 },
 "nbformat": 4,
 "nbformat_minor": 5
}
