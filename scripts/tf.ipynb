{
 "cells": [
  {
   "cell_type": "code",
   "execution_count": 4,
   "metadata": {},
   "outputs": [],
   "source": [
    "import rospy\n",
    "\n",
    "import tf_conversions\n",
    "\n",
    "import tf2_ros\n",
    "from tf2_msgs.msg import TFMessage\n",
    "from geometry_msgs.msg import TransformStamped"
   ]
  },
  {
   "cell_type": "code",
   "execution_count": 6,
   "metadata": {},
   "outputs": [],
   "source": [
    "class FixedTFBroadcaster:\n",
    "    def __init__(self):\n",
    "#         self.br = tf2_ros.TransformBroadcaster()\n",
    "        self.pub_tf = rospy.Publisher('/tf', TFMessage, queue_size=1)\n",
    "        \n",
    "        self.t = TransformStamped()\n",
    "        self.t.header.frame_id = \"map\"\n",
    "        t.child_frame_id = \"myframe\"\n",
    "        \n",
    "        self.t_x = 0\n",
    "        self.t_y = 0\n",
    "        self.t_z = 0\n",
    "        self.r_x = 0\n",
    "        self.r_y = 0\n",
    "        self.r_z = 0\n",
    "        self.r_w = 1\n",
    "        \n",
    "        \n",
    "    def start_publish(self):\n",
    "        rate = rospy.Rate(10)\n",
    "        while not rospy.is_shutdown():\n",
    "\n",
    "            self.t.header.stamp = rospy.Time.now()\n",
    "            self.t.transform.translation.x = self.t_x\n",
    "            self.t.transform.translation.y = self.t_y\n",
    "            self.t.transform.translation.z = self.t_z\n",
    "            self.t.transform.rotation.x = self.r_x\n",
    "            self.t.transform.rotation.y = self.r_y\n",
    "            self.t.transform.rotation.z = self.r_z\n",
    "            self.t.transform.rotation.w = self.r_w\n",
    "            \n",
    "            self.pub_tf.publish(TFMessage([self.t]))\n",
    "            rate.sleep()\n",
    "            "
   ]
  },
  {
   "cell_type": "code",
   "execution_count": null,
   "metadata": {},
   "outputs": [],
   "source": []
  }
 ],
 "metadata": {
  "kernelspec": {
   "display_name": "Python 2",
   "language": "python",
   "name": "python2"
  },
  "language_info": {
   "codemirror_mode": {
    "name": "ipython",
    "version": 2
   },
   "file_extension": ".py",
   "mimetype": "text/x-python",
   "name": "python",
   "nbconvert_exporter": "python",
   "pygments_lexer": "ipython2",
   "version": "2.7.17"
  }
 },
 "nbformat": 4,
 "nbformat_minor": 2
}
