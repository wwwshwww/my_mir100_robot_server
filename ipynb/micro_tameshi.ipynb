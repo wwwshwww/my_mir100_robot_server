{
 "cells": [
  {
   "cell_type": "code",
   "execution_count": null,
   "id": "excess-allergy",
   "metadata": {},
   "outputs": [],
   "source": [
    "a = [1,2,3]\n",
    "all(a)"
   ]
  },
  {
   "cell_type": "code",
   "execution_count": null,
   "id": "focal-hunter",
   "metadata": {},
   "outputs": [],
   "source": [
    "import rospy\n",
    "master = rospy.get_master()\n",
    "target = master.target\n",
    "target._ServerProxy__host.split(\":\")"
   ]
  },
  {
   "cell_type": "code",
   "execution_count": null,
   "id": "electric-penetration",
   "metadata": {},
   "outputs": [],
   "source": [
    "import os\n",
    "\n",
    "master = os.getenv('ROS_MASTER_URI')\n",
    "print(master)\n",
    "host, port = master.split(\"//\")[1].split(\":\")\n",
    "host, int(port)"
   ]
  },
  {
   "cell_type": "code",
   "execution_count": 78,
   "id": "cross-mailman",
   "metadata": {},
   "outputs": [
    {
     "data": {
      "image/svg+xml": [
       "<svg xmlns=\"http://www.w3.org/2000/svg\" xmlns:xlink=\"http://www.w3.org/1999/xlink\" width=\"100.0\" height=\"100.0\" viewBox=\"-3.8455810393134575 -4.049701492209126 7.666147953709736 8.090773340802645\" preserveAspectRatio=\"xMinYMin meet\"><g transform=\"matrix(1,0,0,-1,0,-0.008629643615605254)\"><path fill-rule=\"evenodd\" fill=\"#66cc99\" stroke=\"#555555\" stroke-width=\"0.1618154668160529\" opacity=\"0.6\" d=\"M 3.520908642514699,-3.3592098423573082 L -0.16228884468474508,-3.7500432203275462 L -3.489816198892283,-2.822749443684388 L -3.545922767431878,-0.2715029686985167 L -3.54064825525401,1.6180275677479055 L -1.5387918601896682,3.3256399544127064 L 0.7109588841591161,3.741413576711941 L 1.142622600055437,2.7147715883629093 L 3.520908642514699,-3.3592098423573082 z M 0.7986619656037743,1.8733073795838964 L 1.1830521351168368,1.7626538772366183 L 1.0723986327695587,1.3782637077235558 L 0.6880084632564962,1.4889172100708339 L 0.7986619656037743,1.8733073795838964 z M -0.5019569732662117,0.47696268282235643 L -0.30289090673978414,0.13001499057221924 L -0.6498385989899214,-0.06905107595420834 L -0.8489046655163489,0.2778966162959289 L -0.5019569732662117,0.47696268282235643 z M -0.9787833029149785,0.4044828846247635 L -1.3787803959197609,0.4060078724029178 L -1.3772554081416066,0.8060049654077002 L -0.9772583151368242,0.8044799776295458 L -0.9787833029149785,0.4044828846247635 z M -1.204790924664957,1.0659464869031956 L -1.59164383753057,0.9642369799365871 L -1.6933533444971784,1.3510898928022 L -1.3065004316315656,1.4527993997688085 L -1.204790924664957,1.0659464869031956 z M -0.22909808516019947,-2.0671797168224932 L -0.039324001832407085,-2.419295886995202 L -0.39144017200511605,-2.6090699703229943 L -0.5812142553329085,-2.2569538001502853 L -0.22909808516019947,-2.0671797168224932 z M -2.6816732828328083,0.15646013450239127 L -3.040969589367533,0.3322616251402843 L -2.8651680987296397,0.6915579316750089 L -2.505871792194915,0.5157564410371158 L -2.6816732828328083,0.15646013450239127 z M 2.0018221272461396,-0.6107091744106118 L 1.6121562390184316,-0.5203737132023383 L 1.7024917002267053,-0.13070782497463038 L 2.092157588454413,-0.22104328618290398 L 2.0018221272461396,-0.6107091744106118 z M -1.2312415649454038,3.137872506615709 L -0.8614149018074937,2.985464372868593 L -1.0138230355546096,2.6156377097306827 L -1.3836496986925197,2.768045843477799 L -1.2312415649454038,3.137872506615709 z M -2.9684168307662455,-1.1215166646027162 L -2.651294519160777,-1.3653064090178662 L -2.895084263575927,-1.6824287206233346 L -3.2122065751813955,-1.4386389762081846 L -2.9684168307662455,-1.1215166646027162 z M -2.026195090929939,-0.22391432325777086 L -1.9928768386101225,-0.6225242755449072 L -2.391486790897259,-0.6558425278647239 L -2.4248050432170754,-0.2572325755775875 L -2.026195090929939,-0.22391432325777086 z\" /></g></svg>"
      ],
      "text/plain": [
       "<shapely.geometry.polygon.Polygon at 0x7fce803371d0>"
      ]
     },
     "execution_count": 78,
     "metadata": {},
     "output_type": "execute_result"
    }
   ],
   "source": [
    "from roomor.generator import CubeRoomGenerator\n",
    "# import rospy\n",
    "\n",
    "# rospy.init_node(\"asdf\")\n",
    "\n",
    "gazebo_proxy = {\n",
    "            'ros_host': 'localhost', \n",
    "            'ros_port': 11311, \n",
    "            'gazebo_host': 'localhost',\n",
    "            'gazebo_port': 11345\n",
    "}\n",
    "\n",
    "room_generator_params = dict()\n",
    "room_generator_params['obstacle_count'] = 10\n",
    "room_generator_params['obstacle_size'] = 0.4\n",
    "room_generator_params['target_size'] = 0.2\n",
    "room_generator_params['room_length_max'] = 8\n",
    "room_generator_params['room_mass_min'] = 36\n",
    "room_generator_params['room_mass_max'] = 40\n",
    "room_generator_params['room_wall_height'] = 0.8\n",
    "room_generator_params['room_wall_thickness'] = 0.05\n",
    "room_generator_params['agent_size'] = 0.4\n",
    "room_generator_params['wall_threshold'] = 0.01\n",
    "\n",
    "c = CubeRoomGenerator(**room_generator_params, **gazebo_proxy)\n",
    "g = c.generate_new()\n",
    "g.spawn_all()\n"
   ]
  },
  {
   "cell_type": "code",
   "execution_count": 79,
   "id": "pending-indianapolis",
   "metadata": {},
   "outputs": [
    {
     "data": {
      "text/plain": [
       "array([[ 0.9355303 ,  1.62578554],\n",
       "       [-1.44907213,  1.20851819],\n",
       "       [-0.31026913, -2.33812484],\n",
       "       [-2.77342069,  0.42400903],\n",
       "       [ 1.85215691, -0.3707085 ],\n",
       "       [-1.1225323 ,  2.87675511],\n",
       "       [-2.93175055, -1.40197269],\n",
       "       [-1.17801936,  0.60524393],\n",
       "       [-0.57589779,  0.2039558 ],\n",
       "       [-2.20884094, -0.43987843]])"
      ]
     },
     "execution_count": 79,
     "metadata": {},
     "output_type": "execute_result"
    }
   ],
   "source": [
    "obs = g.obstacle_pose['positions'][:,:2]\n",
    "obs"
   ]
  },
  {
   "cell_type": "code",
   "execution_count": 81,
   "id": "bright-threshold",
   "metadata": {},
   "outputs": [
    {
     "data": {
      "image/svg+xml": [
       "<svg xmlns=\"http://www.w3.org/2000/svg\" xmlns:xlink=\"http://www.w3.org/1999/xlink\" width=\"100.0\" height=\"100.0\" viewBox=\"-3.8455810393134575 -4.049701492209126 7.666147953709736 8.090773340802645\" preserveAspectRatio=\"xMinYMin meet\"><g transform=\"matrix(1,0,0,-1,0,-0.008629643615605254)\"><path fill-rule=\"evenodd\" fill=\"#66cc99\" stroke=\"#555555\" stroke-width=\"0.1618154668160529\" opacity=\"0.6\" d=\"M 3.520908642514699,-3.3592098423573082 L -0.16228884468474508,-3.7500432203275462 L -3.489816198892283,-2.822749443684388 L -3.545922767431878,-0.2715029686985167 L -3.54064825525401,1.6180275677479055 L -1.5387918601896682,3.3256399544127064 L 0.7109588841591161,3.741413576711941 L 1.142622600055437,2.7147715883629093 L 3.520908642514699,-3.3592098423573082 z M 0.7986619656037743,1.8733073795838964 L 1.1830521351168368,1.7626538772366183 L 1.0723986327695587,1.3782637077235558 L 0.6880084632564962,1.4889172100708339 L 0.7986619656037743,1.8733073795838964 z M -0.5019569732662117,0.47696268282235643 L -0.30289090673978414,0.13001499057221924 L -0.6498385989899214,-0.06905107595420834 L -0.8489046655163489,0.2778966162959289 L -0.5019569732662117,0.47696268282235643 z M -0.9787833029149785,0.4044828846247635 L -1.3787803959197609,0.4060078724029178 L -1.3772554081416066,0.8060049654077002 L -0.9772583151368242,0.8044799776295458 L -0.9787833029149785,0.4044828846247635 z M -1.204790924664957,1.0659464869031956 L -1.59164383753057,0.9642369799365871 L -1.6933533444971784,1.3510898928022 L -1.3065004316315656,1.4527993997688085 L -1.204790924664957,1.0659464869031956 z M -0.22909808516019947,-2.0671797168224932 L -0.039324001832407085,-2.419295886995202 L -0.39144017200511605,-2.6090699703229943 L -0.5812142553329085,-2.2569538001502853 L -0.22909808516019947,-2.0671797168224932 z M -2.6816732828328083,0.15646013450239127 L -3.040969589367533,0.3322616251402843 L -2.8651680987296397,0.6915579316750089 L -2.505871792194915,0.5157564410371158 L -2.6816732828328083,0.15646013450239127 z M 2.0018221272461396,-0.6107091744106118 L 1.6121562390184316,-0.5203737132023383 L 1.7024917002267053,-0.13070782497463038 L 2.092157588454413,-0.22104328618290398 L 2.0018221272461396,-0.6107091744106118 z M -1.2312415649454038,3.137872506615709 L -0.8614149018074937,2.985464372868593 L -1.0138230355546096,2.6156377097306827 L -1.3836496986925197,2.768045843477799 L -1.2312415649454038,3.137872506615709 z M -2.9684168307662455,-1.1215166646027162 L -2.651294519160777,-1.3653064090178662 L -2.895084263575927,-1.6824287206233346 L -3.2122065751813955,-1.4386389762081846 L -2.9684168307662455,-1.1215166646027162 z M -2.026195090929939,-0.22391432325777086 L -1.9928768386101225,-0.6225242755449072 L -2.391486790897259,-0.6558425278647239 L -2.4248050432170754,-0.2572325755775875 L -2.026195090929939,-0.22391432325777086 z\" /></g></svg>"
      ],
      "text/plain": [
       "<shapely.geometry.polygon.Polygon at 0x7fce803c2400>"
      ]
     },
     "execution_count": 81,
     "metadata": {},
     "output_type": "execute_result"
    }
   ],
   "source": [
    "p = g.get_freespace_poly()\n",
    "p"
   ]
  },
  {
   "cell_type": "code",
   "execution_count": 80,
   "id": "classified-bullet",
   "metadata": {},
   "outputs": [
    {
     "data": {
      "image/svg+xml": [
       "<svg xmlns=\"http://www.w3.org/2000/svg\" xmlns:xlink=\"http://www.w3.org/1999/xlink\" width=\"100.0\" height=\"100.0\" viewBox=\"-3.8455810393134575 -4.049701492209126 7.666147953709736 8.090773340802645\" preserveAspectRatio=\"xMinYMin meet\"><g transform=\"matrix(1,0,0,-1,0,-0.008629643615605254)\"><path fill-rule=\"evenodd\" fill=\"#66cc99\" stroke=\"#555555\" stroke-width=\"0.1618154668160529\" opacity=\"0.6\" d=\"M 3.520908642514699,-3.3592098423573082 L -0.16228884468474508,-3.7500432203275462 L -3.489816198892283,-2.822749443684388 L -3.545922767431878,-0.2715029686985167 L -3.54064825525401,1.6180275677479055 L -1.5387918601896682,3.3256399544127064 L 0.7109588841591161,3.741413576711941 L 1.142622600055437,2.7147715883629093 L 3.520908642514699,-3.3592098423573082 z M -0.22909808516019947,-2.0671797168224932 L -0.5812142553329085,-2.2569538001502853 L -0.39144017200511605,-2.6090699703229943 L -0.039324001832407085,-2.419295886995202 L -0.22909808516019947,-2.0671797168224932 z M -2.9684168307662455,-1.1215166646027162 L -3.2122065751813955,-1.4386389762081846 L -2.895084263575927,-1.6824287206233346 L -2.651294519160777,-1.3653064090178662 L -2.9684168307662455,-1.1215166646027162 z M -2.026195090929939,-0.22391432325777086 L -2.4248050432170754,-0.2572325755775875 L -2.391486790897259,-0.6558425278647239 L -1.9928768386101225,-0.6225242755449072 L -2.026195090929939,-0.22391432325777086 z M 1.7024917002267053,-0.13070782497463038 L 1.6121562390184316,-0.5203737132023383 L 2.0018221272461396,-0.6107091744106118 L 2.092157588454413,-0.22104328618290398 L 1.7024917002267053,-0.13070782497463038 z M -2.8651680987296397,0.6915579316750089 L -3.040969589367533,0.3322616251402843 L -2.6816732828328083,0.15646013450239127 L -2.505871792194915,0.5157564410371158 L -2.8651680987296397,0.6915579316750089 z M 0.6880084632564962,1.4889172100708339 L 1.0723986327695587,1.3782637077235558 L 1.1830521351168368,1.7626538772366183 L 0.7986619656037743,1.8733073795838964 L 0.6880084632564962,1.4889172100708339 z M -1.3836496986925197,2.768045843477799 L -1.0138230355546096,2.6156377097306827 L -0.8614149018074937,2.985464372868593 L -1.2312415649454038,3.137872506615709 L -1.3836496986925197,2.768045843477799 z M -0.6498385989899214,-0.06905107595420834 L -0.30289090673978414,0.13001499057221924 L -0.5019569732662117,0.47696268282235643 L -1.3065004316315656,1.4527993997688085 L -1.6933533444971784,1.3510898928022 L -1.59164383753057,0.9642369799365871 L -1.3787803959197609,0.4060078724029178 L -0.6498385989899214,-0.06905107595420834 z\" /></g></svg>"
      ],
      "text/plain": [
       "<shapely.geometry.polygon.Polygon at 0x7fce8031f828>"
      ]
     },
     "execution_count": 80,
     "metadata": {},
     "output_type": "execute_result"
    }
   ],
   "source": [
    "freezone = g.get_freezone_poly()\n",
    "freezone"
   ]
  },
  {
   "cell_type": "code",
   "execution_count": 49,
   "id": "latest-lover",
   "metadata": {},
   "outputs": [
    {
     "name": "stdout",
     "output_type": "stream",
     "text": [
      "[[1.3715597 1.7961072]]\n"
     ]
    },
    {
     "data": {
      "text/plain": [
       "0.6607152432485531"
      ]
     },
     "execution_count": 49,
     "metadata": {},
     "output_type": "execute_result"
    }
   ],
   "source": [
    "pos = trimesh.path.polygons.sample(freezone, 1)\n",
    "poss = np.full([len(obs),2], pos)\n",
    "print(pos)\n",
    "np.min(np.linalg.norm(pos-obs, axis=1))"
   ]
  },
  {
   "cell_type": "code",
   "execution_count": 77,
   "id": "tired-symphony",
   "metadata": {},
   "outputs": [
    {
     "name": "stdout",
     "output_type": "stream",
     "text": [
      "1.3195149308847052\n",
      "[0.06668089 2.66066179]\n"
     ]
    }
   ],
   "source": [
    "thresh = 1.0\n",
    "\n",
    "poses = trimesh.path.polygons.sample(freezone, 100)\n",
    "pos = [0,0]\n",
    "for p in poses:\n",
    "    poss = np.full([len(obs),2], p)\n",
    "    min_norm = np.min(np.linalg.norm(poss-obs, axis=1))\n",
    "    if min_norm > 1.0:\n",
    "        pos = p\n",
    "        print(min_norm)\n",
    "        break\n",
    "        \n",
    "print(pos)"
   ]
  },
  {
   "cell_type": "code",
   "execution_count": null,
   "id": "geographic-ensemble",
   "metadata": {},
   "outputs": [],
   "source": [
    "from PIL import Image\n",
    "import numpy as np\n",
    "\n",
    "data = g.get_occupancy_grid(p, [0.1,0.1], np.pi/4)\n",
    "img = Image.fromarray(data.reshape((512,512)), 'L')\n",
    "img.show()"
   ]
  },
  {
   "cell_type": "code",
   "execution_count": 62,
   "id": "centered-timber",
   "metadata": {},
   "outputs": [
    {
     "ename": "AttributeError",
     "evalue": "'numpy.ndarray' object has no attribute 'is_empty'",
     "output_type": "error",
     "traceback": [
      "\u001b[0;31m---------------------------------------------------------------------------\u001b[0m",
      "\u001b[0;31mAttributeError\u001b[0m                            Traceback (most recent call last)",
      "\u001b[0;32m<ipython-input-62-b87af2f52a20>\u001b[0m in \u001b[0;36m<module>\u001b[0;34m\u001b[0m\n\u001b[1;32m     10\u001b[0m \u001b[0mb\u001b[0m \u001b[0;34m=\u001b[0m \u001b[0mnp\u001b[0m\u001b[0;34m.\u001b[0m\u001b[0marray\u001b[0m\u001b[0;34m(\u001b[0m\u001b[0;34m[\u001b[0m\u001b[0;34m[\u001b[0m\u001b[0mnp\u001b[0m\u001b[0;34m.\u001b[0m\u001b[0mcos\u001b[0m\u001b[0;34m(\u001b[0m\u001b[0mangle\u001b[0m\u001b[0;34m)\u001b[0m\u001b[0;34m,\u001b[0m\u001b[0;34m-\u001b[0m\u001b[0mnp\u001b[0m\u001b[0;34m.\u001b[0m\u001b[0msin\u001b[0m\u001b[0;34m(\u001b[0m\u001b[0mangle\u001b[0m\u001b[0;34m)\u001b[0m\u001b[0;34m,\u001b[0m\u001b[0;36m0\u001b[0m\u001b[0;34m]\u001b[0m\u001b[0;34m,\u001b[0m \u001b[0;34m[\u001b[0m\u001b[0mnp\u001b[0m\u001b[0;34m.\u001b[0m\u001b[0msin\u001b[0m\u001b[0;34m(\u001b[0m\u001b[0mangle\u001b[0m\u001b[0;34m)\u001b[0m\u001b[0;34m,\u001b[0m\u001b[0mnp\u001b[0m\u001b[0;34m.\u001b[0m\u001b[0mcos\u001b[0m\u001b[0;34m(\u001b[0m\u001b[0mangle\u001b[0m\u001b[0;34m)\u001b[0m\u001b[0;34m,\u001b[0m\u001b[0;36m0\u001b[0m\u001b[0;34m]\u001b[0m\u001b[0;34m,\u001b[0m \u001b[0;34m[\u001b[0m\u001b[0;36m0\u001b[0m\u001b[0;34m,\u001b[0m\u001b[0;36m0\u001b[0m\u001b[0;34m,\u001b[0m\u001b[0;36m1\u001b[0m\u001b[0;34m]\u001b[0m\u001b[0;34m]\u001b[0m\u001b[0;34m)\u001b[0m\u001b[0;34m\u001b[0m\u001b[0;34m\u001b[0m\u001b[0m\n\u001b[1;32m     11\u001b[0m \u001b[0mmat\u001b[0m \u001b[0;34m=\u001b[0m \u001b[0mnp\u001b[0m\u001b[0;34m.\u001b[0m\u001b[0mdot\u001b[0m\u001b[0;34m(\u001b[0m\u001b[0mb\u001b[0m\u001b[0;34m,\u001b[0m\u001b[0ma\u001b[0m\u001b[0;34m)\u001b[0m\u001b[0;34m\u001b[0m\u001b[0;34m\u001b[0m\u001b[0m\n\u001b[0;32m---> 12\u001b[0;31m \u001b[0mtd\u001b[0m \u001b[0;34m=\u001b[0m \u001b[0mshapely\u001b[0m\u001b[0;34m.\u001b[0m\u001b[0maffinity\u001b[0m\u001b[0;34m.\u001b[0m\u001b[0maffine_transform\u001b[0m\u001b[0;34m(\u001b[0m\u001b[0mp\u001b[0m\u001b[0;34m,\u001b[0m \u001b[0;34m[\u001b[0m\u001b[0mmat\u001b[0m\u001b[0;34m[\u001b[0m\u001b[0;36m0\u001b[0m\u001b[0;34m,\u001b[0m\u001b[0;36m0\u001b[0m\u001b[0;34m]\u001b[0m\u001b[0;34m,\u001b[0m\u001b[0mmat\u001b[0m\u001b[0;34m[\u001b[0m\u001b[0;36m0\u001b[0m\u001b[0;34m,\u001b[0m\u001b[0;36m1\u001b[0m\u001b[0;34m]\u001b[0m\u001b[0;34m,\u001b[0m\u001b[0mmat\u001b[0m\u001b[0;34m[\u001b[0m\u001b[0;36m1\u001b[0m\u001b[0;34m,\u001b[0m\u001b[0;36m0\u001b[0m\u001b[0;34m]\u001b[0m\u001b[0;34m,\u001b[0m\u001b[0mmat\u001b[0m\u001b[0;34m[\u001b[0m\u001b[0;36m1\u001b[0m\u001b[0;34m,\u001b[0m\u001b[0;36m1\u001b[0m\u001b[0;34m]\u001b[0m\u001b[0;34m,\u001b[0m\u001b[0mmat\u001b[0m\u001b[0;34m[\u001b[0m\u001b[0;36m0\u001b[0m\u001b[0;34m,\u001b[0m\u001b[0;36m2\u001b[0m\u001b[0;34m]\u001b[0m\u001b[0;34m,\u001b[0m\u001b[0mmat\u001b[0m\u001b[0;34m[\u001b[0m\u001b[0;36m1\u001b[0m\u001b[0;34m,\u001b[0m\u001b[0;36m2\u001b[0m\u001b[0;34m]\u001b[0m\u001b[0;34m]\u001b[0m\u001b[0;34m)\u001b[0m\u001b[0;34m\u001b[0m\u001b[0;34m\u001b[0m\u001b[0m\n\u001b[0m\u001b[1;32m     13\u001b[0m \u001b[0mtrimesh\u001b[0m\u001b[0;34m.\u001b[0m\u001b[0mpath\u001b[0m\u001b[0;34m.\u001b[0m\u001b[0mpolygons\u001b[0m\u001b[0;34m.\u001b[0m\u001b[0mplot_polygon\u001b[0m\u001b[0;34m(\u001b[0m\u001b[0;34m[\u001b[0m\u001b[0mp\u001b[0m\u001b[0;34m,\u001b[0m\u001b[0mtd\u001b[0m\u001b[0;34m]\u001b[0m\u001b[0;34m)\u001b[0m\u001b[0;34m\u001b[0m\u001b[0;34m\u001b[0m\u001b[0m\n",
      "\u001b[0;32m/usr/local/lib/python3.6/dist-packages/shapely/speedups/__init__.py\u001b[0m in \u001b[0;36maffine_transform\u001b[0;34m(geom, matrix)\u001b[0m\n\u001b[1;32m     71\u001b[0m     \u001b[0;31m# copy docstring from original function\u001b[0m\u001b[0;34m\u001b[0m\u001b[0;34m\u001b[0m\u001b[0;34m\u001b[0m\u001b[0m\n\u001b[1;32m     72\u001b[0m     \u001b[0;32mdef\u001b[0m \u001b[0maffine_transform\u001b[0m\u001b[0;34m(\u001b[0m\u001b[0mgeom\u001b[0m\u001b[0;34m,\u001b[0m \u001b[0mmatrix\u001b[0m\u001b[0;34m)\u001b[0m\u001b[0;34m:\u001b[0m\u001b[0;34m\u001b[0m\u001b[0;34m\u001b[0m\u001b[0m\n\u001b[0;32m---> 73\u001b[0;31m         \u001b[0;32mreturn\u001b[0m \u001b[0m_speedups\u001b[0m\u001b[0;34m.\u001b[0m\u001b[0maffine_transform\u001b[0m\u001b[0;34m(\u001b[0m\u001b[0mgeom\u001b[0m\u001b[0;34m,\u001b[0m \u001b[0mmatrix\u001b[0m\u001b[0;34m)\u001b[0m\u001b[0;34m\u001b[0m\u001b[0;34m\u001b[0m\u001b[0m\n\u001b[0m\u001b[1;32m     74\u001b[0m     \u001b[0maffine_transform\u001b[0m\u001b[0;34m.\u001b[0m\u001b[0m__doc__\u001b[0m \u001b[0;34m=\u001b[0m \u001b[0mshapely\u001b[0m\u001b[0;34m.\u001b[0m\u001b[0maffinity\u001b[0m\u001b[0;34m.\u001b[0m\u001b[0maffine_transform\u001b[0m\u001b[0;34m.\u001b[0m\u001b[0m__doc__\u001b[0m\u001b[0;34m\u001b[0m\u001b[0;34m\u001b[0m\u001b[0m\n\u001b[1;32m     75\u001b[0m     \u001b[0mshapely\u001b[0m\u001b[0;34m.\u001b[0m\u001b[0maffinity\u001b[0m\u001b[0;34m.\u001b[0m\u001b[0maffine_transform\u001b[0m \u001b[0;34m=\u001b[0m \u001b[0maffine_transform\u001b[0m\u001b[0;34m\u001b[0m\u001b[0;34m\u001b[0m\u001b[0m\n",
      "\u001b[0;32m/usr/local/lib/python3.6/dist-packages/shapely/speedups/_speedups.pyx\u001b[0m in \u001b[0;36mshapely.speedups._speedups.affine_transform\u001b[0;34m()\u001b[0m\n",
      "\u001b[0;32m/usr/local/lib/python3.6/dist-packages/shapely/speedups/_speedups.pyx\u001b[0m in \u001b[0;36mshapely.speedups._speedups.affine_transform\u001b[0;34m()\u001b[0m\n",
      "\u001b[0;31mAttributeError\u001b[0m: 'numpy.ndarray' object has no attribute 'is_empty'"
     ]
    }
   ],
   "source": [
    "import numpy as np\n",
    "import shapely\n",
    "import trimesh\n",
    "\n",
    "angle = np.pi/4\n",
    "\n",
    "a = np.identity(3)\n",
    "a[:2, 2] = [1,1]\n",
    "# a = np.array([[1,0,1],[0,1,1], [0,0,1]])\n",
    "b = np.array([[np.cos(angle),-np.sin(angle),0], [np.sin(angle),np.cos(angle),0], [0,0,1]])\n",
    "mat = np.dot(b,a)\n",
    "td = shapely.affinity.affine_transform(p, [mat[0,0],mat[0,1],mat[1,0],mat[1,1],mat[0,2],mat[1,2]])\n",
    "trimesh.path.polygons.plot_polygon([p,td])"
   ]
  },
  {
   "cell_type": "code",
   "execution_count": null,
   "id": "confused-kruger",
   "metadata": {},
   "outputs": [],
   "source": [
    "def asdf(a,b,c,d,e,f=2):\n",
    "    print(a,b,c,d,e,f)\n",
    "    \n",
    "class gh:\n",
    "    def __init__(self, j1, j2):\n",
    "        self.j1 = j1\n",
    "        self.j2 = j2\n",
    "        pass\n",
    "    \n",
    "h = gh(**{'j2':1}, **{'j1':2})\n",
    "print(h.j1)\n",
    "    \n",
    "asdf(**{'a':1, 'b':2}, **{'c':1, 'd':1,'e':1})"
   ]
  },
  {
   "cell_type": "code",
   "execution_count": null,
   "id": "incorporated-diana",
   "metadata": {},
   "outputs": [],
   "source": []
  }
 ],
 "metadata": {
  "kernelspec": {
   "display_name": "Python 2",
   "language": "python",
   "name": "python2"
  },
  "language_info": {
   "codemirror_mode": {
    "name": "ipython",
    "version": 3
   },
   "file_extension": ".py",
   "mimetype": "text/x-python",
   "name": "python",
   "nbconvert_exporter": "python",
   "pygments_lexer": "ipython3",
   "version": "3.6.9"
  }
 },
 "nbformat": 4,
 "nbformat_minor": 5
}
